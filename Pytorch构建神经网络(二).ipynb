{
 "cells": [
  {
   "cell_type": "markdown",
   "metadata": {},
   "source": [
    "# Pytorch神经网络构建(二)（14（网站上为13）-28节）"
   ]
  },
  {
   "cell_type": "markdown",
   "metadata": {},
   "source": [
    "## 3. 神经网络与深度学习"
   ]
  },
  {
   "cell_type": "markdown",
   "metadata": {},
   "source": [
    "### 3.1 Fashion-MNIST 数据集的起源"
   ]
  },
  {
   "cell_type": "markdown",
   "metadata": {},
   "source": [
    "* 计算机程序一般由两个主要部分组成：代码和数据\n",
    "* 对于深度学习而言，软件即为网络本身，尤其是在训练过程中通过训练产生的权重\n",
    "* 神经网络程序员的工作是通过训练来监督和指导学习过程(可以看做是编写软件或代码的间接方式)\n",
    "#### 3.1.1 Fashion-MNIST数据集\n",
    "* MNIST是非常著名的手写数字数据集 (M:Modify; NIST: National Institute of Standard and Technology)\n",
    "* MNIST中共有7万张图像：6万张用于训练；1万张用于测试；共0—9十个类别\n",
    "* Fashion-MNIST数据集来自Zalando网站：10类别对应10种服饰；7万张 28x28的灰度图像\n",
    "* Fashion-MNIST的目的是取代MNIST数据集，用作基准来测试机器学习算法\n",
    "* Fashion-MNIST与MNIST数据集的异同：(1)异：MNIST数据集中图像都是手写图像，而Fashion-MNIST中的是真实图像；(2)同：这两个数据集具有相同的数据规模，图像大小，数据格式，以及训练集和测试集的分割方式\n",
    "* MNIST为何如此受欢迎：1.该数据集的规模允许深度学习研究者快速地检查和复现它们的算法；2.在所有的深度学习框架中都能使用该数据集\n",
    "* Pytorch中的torchvision包可以加载fashion-mnist数据集"
   ]
  },
  {
   "cell_type": "markdown",
   "metadata": {},
   "source": [
    "### 3.2 使用torchvision导入和加载数据集\n",
    "#### 3.2.1 创建深度学习项目的流程：\n",
    "1. 准备数据集\n",
    "2. 创建网络模型\n",
    "3. 训练网络模型\n",
    "4. 分析结果\n",
    "#### 3.2.2 数据准备遵守ETL过程：\n",
    "* 提取(extract)、转换(transform)、加载(load)\n",
    "* pytorch中自带的包，能够将ETL过程变得简单\n",
    "#### 3.2.3 数据的准备：\n",
    "* 1.提取：从源数据中获取fashion-mnist图像数据\n",
    "* 2.转换：将数据转换成张量的形式\n",
    "* 3.加载：将数据封装成对象，使其更容易访问\n",
    "* * Fashion-MNIST 与 MNIST数据集在调用上最大的不同就是URL的不同\n",
    "* * torch.utils.data.Dataset:一个用于表示数据集的抽象类\n",
    "* * torch.utils.data.DataLoader: 包装数据集并提供对底层的访问"
   ]
  },
  {
   "cell_type": "code",
   "execution_count": null,
   "metadata": {},
   "outputs": [],
   "source": [
    "# 类示例\n",
    "class OHLC(Dataset):\n",
    "    def __init__(self,csv_file):\n",
    "        self.data=pd.read_csv(csv_file)\n",
    "        \n",
    "    def __getitem__(self,index):\n",
    "        r=self.data.iloc[index]\n",
    "        label=torch.tensor(r.is_up_day,dtype=torch.long)\n",
    "        sample=self.normalize(torch.tensor([r.open,r.high,r.low,r.close]))\n",
    "        return sample,label\n",
    "    \n",
    "    def __len__(self):\n",
    "        return len(self.data)"
   ]
  },
  {
   "cell_type": "code",
   "execution_count": 1,
   "metadata": {},
   "outputs": [
    {
     "name": "stdout",
     "output_type": "stream",
     "text": [
      "Downloading http://fashion-mnist.s3-website.eu-central-1.amazonaws.com/train-images-idx3-ubyte.gz to ./data/FashionMNIST\\FashionMNIST\\raw\\train-images-idx3-ubyte.gz\n"
     ]
    },
    {
     "name": "stderr",
     "output_type": "stream",
     "text": [
      "100.0%"
     ]
    },
    {
     "name": "stdout",
     "output_type": "stream",
     "text": [
      "Extracting ./data/FashionMNIST\\FashionMNIST\\raw\\train-images-idx3-ubyte.gz\n",
      "Downloading http://fashion-mnist.s3-website.eu-central-1.amazonaws.com/train-labels-idx1-ubyte.gz to ./data/FashionMNIST\\FashionMNIST\\raw\\train-labels-idx1-ubyte.gz\n"
     ]
    },
    {
     "name": "stderr",
     "output_type": "stream",
     "text": [
      "111.0%"
     ]
    },
    {
     "name": "stdout",
     "output_type": "stream",
     "text": [
      "Extracting ./data/FashionMNIST\\FashionMNIST\\raw\\train-labels-idx1-ubyte.gz\n",
      "Downloading http://fashion-mnist.s3-website.eu-central-1.amazonaws.com/t10k-images-idx3-ubyte.gz to ./data/FashionMNIST\\FashionMNIST\\raw\\t10k-images-idx3-ubyte.gz\n"
     ]
    },
    {
     "name": "stderr",
     "output_type": "stream",
     "text": [
      "100.0%"
     ]
    },
    {
     "name": "stdout",
     "output_type": "stream",
     "text": [
      "Extracting ./data/FashionMNIST\\FashionMNIST\\raw\\t10k-images-idx3-ubyte.gz\n",
      "Downloading http://fashion-mnist.s3-website.eu-central-1.amazonaws.com/t10k-labels-idx1-ubyte.gz to ./data/FashionMNIST\\FashionMNIST\\raw\\t10k-labels-idx1-ubyte.gz\n"
     ]
    },
    {
     "name": "stderr",
     "output_type": "stream",
     "text": [
      "159.1%d:\\anaconda\\anaconda3\\envs\\pytorchenv\\lib\\site-packages\\torchvision\\datasets\\mnist.py:335: UserWarning: The given NumPy array is not writeable, and PyTorch does not support non-writeable tensors. This means you can write to the underlying (supposedly non-writeable) NumPy array using the tensor. You may want to copy the array to protect its data or make it writeable before converting it to a tensor. This type of warning will be suppressed for the rest of this program. (Triggered internally at  ..\\torch\\csrc\\utils\\tensor_numpy.cpp:141.)\n",
      "  return torch.from_numpy(parsed).view(length, num_rows, num_cols)\n"
     ]
    },
    {
     "name": "stdout",
     "output_type": "stream",
     "text": [
      "Extracting ./data/FashionMNIST\\FashionMNIST\\raw\\t10k-labels-idx1-ubyte.gz\n",
      "Processing...\n",
      "Done!\n"
     ]
    }
   ],
   "source": [
    "import torch # 顶级的pytorch包和张量库\n",
    "import torchvision # 提供对流行的数据集、模型架构和CV的图像转换的访问包\n",
    "import torchvision.transforms as transforms # 可帮助对数据进行转换\n",
    "\n",
    "train_set = torchvision.datasets.FashionMNIST(\n",
    "    root = './data/FashionMNIST',   # 数据集在本地的存储位置\n",
    "    train = True,                   # 数据集用于训练\n",
    "    download = True,                # 如果本地没有数据，就自动下载\n",
    "    transform = transforms.Compose([\n",
    "        transforms.ToTensor()         \n",
    "    ])                              # 将图像转换成张量\n",
    ")\n"
   ]
  },
  {
   "cell_type": "code",
   "execution_count": 2,
   "metadata": {},
   "outputs": [
    {
     "data": {
      "text/plain": [
       "'\\ntrain_loader = torch.utils.data.DataLoader(train_set\\n    ,batch_size=1000\\n    ,shuffle=True\\n)\\n'"
      ]
     },
     "execution_count": 2,
     "metadata": {},
     "output_type": "execute_result"
    }
   ],
   "source": [
    "train_loader = torch.utils.data.DataLoader(train_set)\n",
    "# 训练集被打包或加载到数据加载器中，可以以我们期望的格式来访问基础数据；\n",
    "# 数据加载器使我们能够访问数据并提供查询功能\n",
    "'''\n",
    "train_loader = torch.utils.data.DataLoader(train_set\n",
    "    ,batch_size=1000\n",
    "    ,shuffle=True\n",
    ")\n",
    "'''"
   ]
  },
  {
   "cell_type": "markdown",
   "metadata": {},
   "source": [
    "### 3.3 数据集的访问(Dataset & Dataloader)"
   ]
  },
  {
   "cell_type": "code",
   "execution_count": 3,
   "metadata": {},
   "outputs": [],
   "source": [
    "import torch \n",
    "import torchvision\n",
    "import torchvision.transforms as transforms\n",
    "\n",
    "train_set = torchvision.datasets.FashionMNIST(\n",
    "    root = './data/FashionMNIST',\n",
    "    train = True,\n",
    "    download = True,\n",
    "    transform = transforms.Compose([\n",
    "        transforms.ToTensor()\n",
    "    ])\n",
    ")"
   ]
  },
  {
   "cell_type": "code",
   "execution_count": 4,
   "metadata": {},
   "outputs": [],
   "source": [
    "train_loader = torch.utils.data.DataLoader(train_set, batch_size=10)"
   ]
  },
  {
   "cell_type": "code",
   "execution_count": 5,
   "metadata": {},
   "outputs": [
    {
     "name": "stdout",
     "output_type": "stream",
     "text": [
      "60000\n",
      "tensor([9, 0, 0,  ..., 3, 0, 5])\n",
      "tensor([6000, 6000, 6000, 6000, 6000, 6000, 6000, 6000, 6000, 6000])\n"
     ]
    },
    {
     "name": "stderr",
     "output_type": "stream",
     "text": [
      "d:\\anaconda\\anaconda3\\envs\\pytorchenv\\lib\\site-packages\\torchvision\\datasets\\mnist.py:43: UserWarning: train_labels has been renamed targets\n",
      "  warnings.warn(\"train_labels has been renamed targets\")\n"
     ]
    }
   ],
   "source": [
    "import numpy as np\n",
    "import matplotlib.pyplot as plt\n",
    "\n",
    "torch.set_printoptions(linewidth=120)     # 设置打印行宽\n",
    "print(len(train_set))\n",
    "print(train_set.train_labels)\n",
    "print(train_set.train_labels.bincount())    # bincount:张量中每个值出现的频数"
   ]
  },
  {
   "cell_type": "markdown",
   "metadata": {},
   "source": [
    "* 要想从训练集对象中访问一个单独的元素，首先要将一个训练集对象(train_set)传递给python的iter()函数，以此返回一个表示数据流的对象；然后就可以使用next函数来获取数据流中的元素"
   ]
  },
  {
   "cell_type": "code",
   "execution_count": 11,
   "metadata": {},
   "outputs": [
    {
     "name": "stdout",
     "output_type": "stream",
     "text": [
      "2\n",
      "<class 'tuple'>\n",
      "1\n",
      "9\n"
     ]
    }
   ],
   "source": [
    "# 查看单个样本\n",
    "sample = next(iter(train_set))\n",
    "print(len(sample))\n",
    "print(type(sample))\n",
    "print(len(sample[0]))# 图像数据\n",
    "print(sample[1])# 图像类别标号"
   ]
  },
  {
   "cell_type": "code",
   "execution_count": 13,
   "metadata": {},
   "outputs": [
    {
     "data": {
      "text/plain": [
       "torch.Size([1, 28, 28])"
      ]
     },
     "execution_count": 13,
     "metadata": {},
     "output_type": "execute_result"
    }
   ],
   "source": [
    "# 将sample解压成图像和标签\n",
    "# image,label = sample\n",
    "image = sample[0]\n",
    "label = sample[1]\n",
    "image.shape"
   ]
  },
  {
   "cell_type": "code",
   "execution_count": 14,
   "metadata": {},
   "outputs": [
    {
     "ename": "AttributeError",
     "evalue": "'int' object has no attribute 'shape'",
     "output_type": "error",
     "traceback": [
      "\u001b[1;31m---------------------------------------------------------------------------\u001b[0m",
      "\u001b[1;31mAttributeError\u001b[0m                            Traceback (most recent call last)",
      "\u001b[1;32m<ipython-input-14-54bf38f54037>\u001b[0m in \u001b[0;36m<module>\u001b[1;34m\u001b[0m\n\u001b[1;32m----> 1\u001b[1;33m \u001b[0mlabel\u001b[0m\u001b[1;33m.\u001b[0m\u001b[0mshape\u001b[0m\u001b[1;33m\u001b[0m\u001b[1;33m\u001b[0m\u001b[0m\n\u001b[0m",
      "\u001b[1;31mAttributeError\u001b[0m: 'int' object has no attribute 'shape'"
     ]
    }
   ],
   "source": [
    "label.shape"
   ]
  },
  {
   "cell_type": "code",
   "execution_count": 15,
   "metadata": {},
   "outputs": [
    {
     "name": "stdout",
     "output_type": "stream",
     "text": [
      "label: 9\n"
     ]
    },
    {
     "data": {
      "image/png": "[encoded data removed]",
      "text/plain": [
       "<Figure size 432x288 with 1 Axes>"
      ]
     },
     "metadata": {
      "needs_background": "light"
     },
     "output_type": "display_data"
    }
   ],
   "source": [
    "# 显示图像和标签\n",
    "plt.imshow(image.squeeze(), cmap='gray')    # 将[1, 28, 28]->[28,28]\n",
    "print('label:', label)"
   ]
  },
  {
   "cell_type": "code",
   "execution_count": 16,
   "metadata": {},
   "outputs": [
    {
     "name": "stdout",
     "output_type": "stream",
     "text": [
      "2\n",
      "<class 'list'>\n",
      "torch.Size([10, 1, 28, 28])\n",
      "torch.Size([10])\n"
     ]
    }
   ],
   "source": [
    "# 查看批量样本\n",
    "batch= next(iter(train_loader))\n",
    "print(len(batch))\n",
    "print(type(batch))\n",
    "images, labels = batch\n",
    "print(images.shape)\n",
    "print(labels.shape)"
   ]
  },
  {
   "cell_type": "code",
   "execution_count": 17,
   "metadata": {},
   "outputs": [
    {
     "name": "stdout",
     "output_type": "stream",
     "text": [
      "torch.Size([3, 32, 302])\n",
      "labels: tensor([9, 0, 0, 3, 0, 2, 7, 2, 5, 5])\n"
     ]
    },
    {
     "data": {
      "image/png": "[encoded data removed]",
      "text/plain": [
       "<Figure size 1080x1080 with 1 Axes>"
      ]
     },
     "metadata": {
      "needs_background": "light"
     },
     "output_type": "display_data"
    }
   ],
   "source": [
    "# 画出一批的图像\n",
    "grid= torchvision.utils.make_grid(images,nrow =10)# nrow参数指定每一行的图像数量\n",
    "print(grid.shape)# 图像的padding默认为2\n",
    "plt.figure(figsize=(15, 15))\n",
    "plt.imshow(np.transpose(grid,(1,2,0)))   # 将张量转换成矩阵\n",
    "print('labels:', labels)\n",
    "# 可以通过改变batchsize来显示更多的数据"
   ]
  },
  {
   "cell_type": "markdown",
   "metadata": {},
   "source": [
    "#### 3.3.1 不平衡数据集\n",
    "关于数据不均衡的问题可以读文章：A systematic study of the class imbalance problem in convolutional neural networks"
   ]
  },
  {
   "cell_type": "markdown",
   "metadata": {},
   "source": [
    "### 3.4 网络建立\n",
    "#### 3.4.1 class和object的区分\n",
    "* class 就是一个实际对象的蓝图或描述\n",
    "* object 就是事物本身\n",
    "* 创建的对象需要在类的实例中调用对象\n",
    "* * 一个给定类的所有实例都有两个核心组件：方法和属性\n",
    "* * 方法代表代码，属性代表数据；方法和属性是由类定义的\n",
    "* * 属性用于描述对象的特征；方法用于描述对象的行为，即对象能够做什么\n",
    "* * 在一个项目中可以有许多对象，即给定类的实例可以同时存在（可在一个类中创建多个对象）\n",
    "* * 类用于封装方法和属性"
   ]
  },
  {
   "cell_type": "markdown",
   "metadata": {},
   "source": [
    "#### 3.4.2 类和实例(对象)<python基础知识补充>\n",
    "* 类是抽象的模板，用于表述具有相同属性和方法的对象的集合，类的命名尽量见名知意\n",
    "* 对象是真实的，见得到摸得着的东西\n",
    "* 类的定义：class 类名():\n",
    "* 类的组成：类名；属性（一组数据）；方法（允许进行的操作）"
   ]
  },
  {
   "cell_type": "code",
   "execution_count": 1,
   "metadata": {},
   "outputs": [],
   "source": [
    "# 类的创建\n",
    "class Lizard:\n",
    "    def __init__(self, name):    # 构造函数 创建对象时自动运行，不用额外调用,无返回值\n",
    "        self.name = name\n",
    "    def set_name(self, name):\n",
    "        self.name = name"
   ]
  },
  {
   "cell_type": "code",
   "execution_count": 2,
   "metadata": {},
   "outputs": [
    {
     "name": "stdout",
     "output_type": "stream",
     "text": [
      "deep\n",
      "lizard\n"
     ]
    }
   ],
   "source": [
    "# 类的调用\n",
    "lizard = Lizard('deep')\n",
    "print(lizard.name)\n",
    "lizard.set_name('lizard')\n",
    "print(lizard.name)"
   ]
  },
  {
   "cell_type": "markdown",
   "metadata": {},
   "source": [
    "#### 3.4.3 面向对象编程与pytorch的结合\n",
    "* 构建一个神经网络的主要组件是层（pytorch神经网络库中包含了帮助构造层的类）\n",
    "* 神经网络中的每一层都有两个主要组成部分：转换和权重（转换代表代码；权重代表数据）\n",
    "* forward方法（前向传输）：张量通过每层的变换向前流动，直到达到输出层\n",
    "* 构建神经网络时必须提供前向方法，前向方法即为实际的变换\n",
    "* 使用pytorch创建神经网络的步骤：\n",
    "* 1.扩展nn.Module基类\n",
    "* 2.定义层(layers)为类属性\n",
    "* 3.实现前向方法"
   ]
  },
  {
   "cell_type": "code",
   "execution_count": null,
   "metadata": {},
   "outputs": [],
   "source": [
    "import torch.nn as nn\n",
    "class Network(nn.Module): # line 1\n",
    "    def __init__(self):\n",
    "        super().__init__() # line 3\n",
    "        self.layer = None\n",
    "\n",
    "    def forward(self, t):\n",
    "        t = self.layer(t)\n",
    "        return t"
   ]
  },
  {
   "cell_type": "code",
   "execution_count": 3,
   "metadata": {},
   "outputs": [],
   "source": [
    "# CNN网络的建立\n",
    "import torch.nn as nn\n",
    "class Network(nn.Module):   #()中加入nn.Module可以使得Network类继承Module基类中的所有功能\n",
    "    def __init__(self):\n",
    "        super(Network, self).__init__()     # 对继承的父类的属性进行初始化，使用父类的方法来进行初始化\n",
    "        self.conv1 = nn.Conv2d(in_channels=1, out_channels=6, kernel_size=5)\n",
    "        self.conv2 = nn.Conv2d(in_channels=6, out_channels=12, kernel_size=5)\n",
    "        # 4*4？\n",
    "        self.fc1 = nn.Linear(in_features=12*4*4, out_features=120)        # 从卷积层传入线性层需要对张量flatten\n",
    "        self.fc2 = nn.Linear(in_features=120, out_features=60)\n",
    "        self.out = nn.Linear(in_features=60, out_features=10)\n",
    "    def forward(self, t):\n",
    "        # implement the forward pass\n",
    "        return t"
   ]
  },
  {
   "cell_type": "code",
   "execution_count": 4,
   "metadata": {},
   "outputs": [
    {
     "data": {
      "text/plain": [
       "Network(\n",
       "  (conv1): Conv2d(1, 6, kernel_size=(5, 5), stride=(1, 1))\n",
       "  (conv2): Conv2d(6, 12, kernel_size=(5, 5), stride=(1, 1))\n",
       "  (fc1): Linear(in_features=192, out_features=120, bias=True)\n",
       "  (fc2): Linear(in_features=120, out_features=60, bias=True)\n",
       "  (out): Linear(in_features=60, out_features=10, bias=True)\n",
       ")"
      ]
     },
     "execution_count": 4,
     "metadata": {},
     "output_type": "execute_result"
    }
   ],
   "source": [
    "network = Network()     # 创建网络对象network\n",
    "network"
   ]
  },
  {
   "cell_type": "markdown",
   "metadata": {},
   "source": [
    "### 3.5 CNN构建及网络参数的使用\n",
    "在上述的Network类中，我们定义了两个卷积层和一个线性层；两个主要的部分封装在其中，即前向函数的定义和权重张量；每个层中权重张量包含了随着我们的网络在训练过程中学习而更新的权重值（这就是在网络类中将层定义为类属性的原因）；在Module类中，pytorch可以跟踪每一层的权重张量，由于我们在创建Network类时扩展了Module类，也就自动继承了该功能。\n",
    "* Parameter和Argument的区别：\n",
    "* * Parameter在函数定义中使用，可将其看作是占位符；(形参)\n",
    "* * Argument是当函数被调用时传递给函数的实际值；（实参）\n",
    "* Parameter的两种类型：\n",
    "* 1.Hyperparameters:其值是手动和任意确定的；要构建神经网络：kernel_size, out_channels, out_features都需要手动选择\n",
    "* 2.Data dependent Hyperparameters:其值是依赖于数据的参数\n",
    "* * 该参数位于网络的开始或末端，即第一个卷积层的输入通道和最后一个卷积层的输出特征图\n",
    "* * 第一个卷积层的输入通道依赖于构成训练集的图像内部的彩色通道的数量（灰度图像是1，彩色图像是3）\n",
    "* * 输出层的输出特征依赖于训练集中类的数量（fashion-MNIST数据集中的类型为10，则输出层的out_features=10）\n",
    "* * 通常情况下，一层的输入是上一层的输出（即：卷积层中所有输入通道和线性层中的输入特征都依赖于上一层的数据）\n",
    "* 当张量从卷积层传入线性层时，张量必须是flatten的"
   ]
  },
  {
   "cell_type": "markdown",
   "metadata": {},
   "source": [
    "|     Parameter     |     Description      |\n",
    "|:----------------------|:-------------------------|\n",
    "|kernel_size| 设置滤波器的大小；滤波器的数量就是输出通道数|\n",
    "|out_channels| 设置滤波器的数量，即为输出通道数|\n",
    "|out_features| 设置输出张量的大小|"
   ]
  },
  {
   "cell_type": "markdown",
   "metadata": {},
   "source": [
    "### 3.6 CNN的权重\n",
    "* 可学习参数：是在训练过程中学习的参数，初值是选择的任意值，其值在网络学习的过程中以迭代的方式进行更新\n",
    "* 说网络在学习是指：网络在学习参数的适合的值，适合的值就是能使损失函数最小化的值\n",
    "* 可学习的参数是网络的权重，存在于每一层中\n",
    "* 当我们扩展类的时候，我们会得到它的所有功能，为了得到它，我们可以添加额外的功能，也可覆盖现有的功能\n",
    "* 在python中，所有特殊的面向对象的方法通常都有前双下划线和后双下划线（__init__, __repr__）"
   ]
  },
  {
   "cell_type": "code",
   "execution_count": 1,
   "metadata": {},
   "outputs": [],
   "source": [
    "# Network类没有扩展Module基类\n",
    "import torch.nn as nn\n",
    "class Network():\n",
    "    def __init__(self):\n",
    "        #super(Network, self).__init__()\n",
    "        self.conv1 = nn.Conv2d(in_channels=1, out_channels=6, kernel_size=5)\n",
    "        self.conv2 = nn.Conv2d(in_channels=6, out_channels=12, kernel_size=5)\n",
    "        self.fc1 = nn.Linear(in_features=12*4*4, out_features=120)\n",
    "        self.fc2 = nn.Linear(in_features=120, out_features=60)\n",
    "        self.out = nn.Linear(in_features=60, out_features=10)\n",
    "    def forward(self,t):\n",
    "        # implement the forward pass\n",
    "        return t"
   ]
  },
  {
   "cell_type": "code",
   "execution_count": 3,
   "metadata": {},
   "outputs": [
    {
     "name": "stdout",
     "output_type": "stream",
     "text": [
      "<__main__.Network object at 0x000002D4181CFC40>\n"
     ]
    }
   ],
   "source": [
    "network = Network()\n",
    "print(network)"
   ]
  },
  {
   "cell_type": "markdown",
   "metadata": {},
   "source": [
    "* 如下所示，在未扩展module时，可使用__repr__函数实现正常输出"
   ]
  },
  {
   "cell_type": "code",
   "execution_count": 4,
   "metadata": {},
   "outputs": [],
   "source": [
    "import torch.nn as nn\n",
    "class Network():\n",
    "    def __init__(self):\n",
    "        #super(Network, self).__init__()\n",
    "        self.conv1 = nn.Conv2d(in_channels=1, out_channels=6, kernel_size=5)\n",
    "        self.conv2 = nn.Conv2d(in_channels=6, out_channels=12, kernel_size=5)\n",
    "        self.fc1 = nn.Linear(in_features=12*4*4, out_features=120)\n",
    "        self.fc2 = nn.Linear(in_features=120, out_features=60)\n",
    "        self.out = nn.Linear(in_features=60, out_features=10)\n",
    "    def forward(self,t):\n",
    "        # implement the forward pass\n",
    "        return t\n",
    "    # override\n",
    "    def __repr__(self):\n",
    "        return \"lizard\""
   ]
  },
  {
   "cell_type": "code",
   "execution_count": 5,
   "metadata": {},
   "outputs": [
    {
     "data": {
      "text/plain": [
       "lizard"
      ]
     },
     "execution_count": 5,
     "metadata": {},
     "output_type": "execute_result"
    }
   ],
   "source": [
    "network = Network()\n",
    "network"
   ]
  },
  {
   "cell_type": "markdown",
   "metadata": {},
   "source": [
    "* 可使用点符号来访问指定的层"
   ]
  },
  {
   "cell_type": "code",
   "execution_count": 6,
   "metadata": {},
   "outputs": [
    {
     "data": {
      "text/plain": [
       "Conv2d(1, 6, kernel_size=(5, 5), stride=(1, 1))"
      ]
     },
     "execution_count": 6,
     "metadata": {},
     "output_type": "execute_result"
    }
   ],
   "source": [
    "network.conv1"
   ]
  },
  {
   "cell_type": "code",
   "execution_count": 7,
   "metadata": {},
   "outputs": [
    {
     "data": {
      "text/plain": [
       "Parameter containing:\n",
       "tensor([[[[-0.1645,  0.0928, -0.0427, -0.1497,  0.1211],\n",
       "          [-0.1169,  0.0170,  0.0890, -0.1321,  0.0555],\n",
       "          [ 0.1218,  0.1120, -0.0917, -0.0205,  0.1801],\n",
       "          [-0.0664, -0.0701, -0.0229, -0.0603,  0.1543],\n",
       "          [-0.1530, -0.1545, -0.1105,  0.1834,  0.1414]]],\n",
       "\n",
       "\n",
       "        [[[-0.1373,  0.0897, -0.0846,  0.0283,  0.0672],\n",
       "          [ 0.1475, -0.1704, -0.1193, -0.1837,  0.0987],\n",
       "          [-0.1204, -0.0777,  0.1189, -0.1118,  0.1732],\n",
       "          [-0.0314, -0.0619,  0.0126, -0.1644,  0.1216],\n",
       "          [ 0.1911,  0.1173,  0.0063, -0.0606,  0.1386]]],\n",
       "\n",
       "\n",
       "        [[[-0.1992,  0.1488,  0.0780,  0.0010, -0.0496],\n",
       "          [ 0.1761, -0.0275, -0.0702,  0.1981, -0.0268],\n",
       "          [-0.1428, -0.1527, -0.1175, -0.0251, -0.1270],\n",
       "          [-0.0757, -0.1870,  0.0091,  0.0443, -0.0161],\n",
       "          [-0.0833,  0.1368,  0.1049, -0.1097,  0.0200]]],\n",
       "\n",
       "\n",
       "        [[[ 0.1933,  0.0059, -0.1625, -0.0742, -0.1158],\n",
       "          [ 0.0622, -0.0447, -0.1888,  0.0853, -0.1333],\n",
       "          [-0.1703, -0.1233,  0.1438,  0.0411,  0.1178],\n",
       "          [ 0.1817,  0.1090,  0.1185,  0.1532,  0.1227],\n",
       "          [-0.1000,  0.0790, -0.0388, -0.0555, -0.1769]]],\n",
       "\n",
       "\n",
       "        [[[-0.1680, -0.1969,  0.1745,  0.1382,  0.0277],\n",
       "          [ 0.0379, -0.1082,  0.1008, -0.1730,  0.1368],\n",
       "          [ 0.1727, -0.1991, -0.1429, -0.1956, -0.1629],\n",
       "          [ 0.0430, -0.0170, -0.0789,  0.1672, -0.1475],\n",
       "          [ 0.0625, -0.0123,  0.0171, -0.1180, -0.0624]]],\n",
       "\n",
       "\n",
       "        [[[ 0.1410, -0.0144, -0.1975, -0.0058,  0.1108],\n",
       "          [ 0.1762, -0.1861, -0.1656, -0.0422,  0.1349],\n",
       "          [-0.1552,  0.0880, -0.1505, -0.0496, -0.0161],\n",
       "          [-0.1449, -0.0283, -0.0290, -0.1588,  0.1061],\n",
       "          [ 0.1222, -0.1286,  0.1939,  0.0276,  0.1193]]]], requires_grad=True)"
      ]
     },
     "execution_count": 7,
     "metadata": {},
     "output_type": "execute_result"
    }
   ],
   "source": [
    "# 输出conv1的权重\n",
    "# filter的个数6=output_channel 大小5*5\n",
    "network.conv1.weight"
   ]
  },
  {
   "cell_type": "code",
   "execution_count": 8,
   "metadata": {},
   "outputs": [
    {
     "data": {
      "text/plain": [
       "torch.Size([6, 1, 5, 5])"
      ]
     },
     "execution_count": 8,
     "metadata": {},
     "output_type": "execute_result"
    }
   ],
   "source": [
    "# 输出conv1权重的形状\n",
    "network.conv1.weight.shape\n",
    "# out_channel=number of filters\n",
    "# in_channel=depth of each filter \n",
    "# filter: height width"
   ]
  },
  {
   "cell_type": "code",
   "execution_count": 10,
   "metadata": {},
   "outputs": [
    {
     "data": {
      "text/plain": [
       "torch.Size([6, 5, 5])"
      ]
     },
     "execution_count": 10,
     "metadata": {},
     "output_type": "execute_result"
    }
   ],
   "source": [
    "# 一个单独的滤波器\n",
    "network.conv2.weight[0].shape"
   ]
  },
  {
   "cell_type": "code",
   "execution_count": 9,
   "metadata": {},
   "outputs": [
    {
     "data": {
      "text/plain": [
       "torch.Size([120, 192])"
      ]
     },
     "execution_count": 9,
     "metadata": {},
     "output_type": "execute_result"
    }
   ],
   "source": [
    "# 对于全连接层，由于需要flatten的张量输入，故此时的权重张量是个秩为2的高度、宽度轴\n",
    "# self.fc1 = nn.Linear(in_features=12*4*4, out_features=120)\n",
    "network.fc1.weight.shape   # height=>out_features; width=>in_features"
   ]
  },
  {
   "cell_type": "markdown",
   "metadata": {},
   "source": [
    "* 为了追踪网络中的所有权重张量，pytorch有一个叫Parameter的类，该类扩展了Tensor类， 所以每一层的权重张量就是这个参数类的一个实例\n",
    "* 权重矩阵定义了线性函数(线性映射)"
   ]
  },
  {
   "cell_type": "code",
   "execution_count": 12,
   "metadata": {},
   "outputs": [
    {
     "data": {
      "text/plain": [
       "tensor([30., 40., 50.])"
      ]
     },
     "execution_count": 12,
     "metadata": {},
     "output_type": "execute_result"
    }
   ],
   "source": [
    "import torch\n",
    "# 张量的乘法\n",
    "in_features = torch.tensor([1,2,3,4],dtype=torch.float32)\n",
    "weight_matrix = torch.tensor([\n",
    "    [1,2,3,4],\n",
    "    [2,3,4,5],\n",
    "    [3,4,5,6]\n",
    "], dtype=torch.float32)\n",
    "weight_matrix.matmul(in_features)     # matmul: matrix multiply"
   ]
  },
  {
   "cell_type": "code",
   "execution_count": 13,
   "metadata": {},
   "outputs": [],
   "source": [
    "# CNN网络的建立\n",
    "import torch.nn as nn\n",
    "class Network(nn.Module):   #()中加入nn.Module可以使得Network类继承Module基类中的所有功能\n",
    "    def __init__(self):\n",
    "        super(Network, self).__init__()     # 对继承的父类的属性进行初始化，使用父类的方法来进行初始化\n",
    "        self.conv1 = nn.Conv2d(in_channels=1, out_channels=6, kernel_size=5)\n",
    "        self.conv2 = nn.Conv2d(in_channels=6, out_channels=12, kernel_size=5)\n",
    "        self.fc1 = nn.Linear(in_features=12*4*4, out_features=120)        # 从卷积层传入线性层需要对张量flatten\n",
    "        self.fc2 = nn.Linear(in_features=120, out_features=60)\n",
    "        self.out = nn.Linear(in_features=60, out_features=10)\n",
    "    def forward(self, t):\n",
    "        # implement the forward pass\n",
    "        return t"
   ]
  },
  {
   "cell_type": "code",
   "execution_count": 14,
   "metadata": {},
   "outputs": [
    {
     "data": {
      "text/plain": [
       "Network(\n",
       "  (conv1): Conv2d(1, 6, kernel_size=(5, 5), stride=(1, 1))\n",
       "  (conv2): Conv2d(6, 12, kernel_size=(5, 5), stride=(1, 1))\n",
       "  (fc1): Linear(in_features=192, out_features=120, bias=True)\n",
       "  (fc2): Linear(in_features=120, out_features=60, bias=True)\n",
       "  (out): Linear(in_features=60, out_features=10, bias=True)\n",
       ")"
      ]
     },
     "execution_count": 14,
     "metadata": {},
     "output_type": "execute_result"
    }
   ],
   "source": [
    "network = Network()\n",
    "network"
   ]
  },
  {
   "cell_type": "code",
   "execution_count": 15,
   "metadata": {},
   "outputs": [
    {
     "name": "stdout",
     "output_type": "stream",
     "text": [
      "torch.Size([6, 1, 5, 5])\n",
      "torch.Size([6])\n",
      "torch.Size([12, 6, 5, 5])\n",
      "torch.Size([12])\n",
      "torch.Size([120, 192])\n",
      "torch.Size([120])\n",
      "torch.Size([60, 120])\n",
      "torch.Size([60])\n",
      "torch.Size([10, 60])\n",
      "torch.Size([10])\n"
     ]
    }
   ],
   "source": [
    "# 访问所有的参数\n",
    "# 方法1：\n",
    "for param in network.parameters():\n",
    "    print(param.shape)"
   ]
  },
  {
   "cell_type": "code",
   "execution_count": 16,
   "metadata": {},
   "outputs": [
    {
     "name": "stdout",
     "output_type": "stream",
     "text": [
      "conv1.weight \t\t torch.Size([6, 1, 5, 5])\n",
      "conv1.bias \t\t torch.Size([6])\n",
      "conv2.weight \t\t torch.Size([12, 6, 5, 5])\n",
      "conv2.bias \t\t torch.Size([12])\n",
      "fc1.weight \t\t torch.Size([120, 192])\n",
      "fc1.bias \t\t torch.Size([120])\n",
      "fc2.weight \t\t torch.Size([60, 120])\n",
      "fc2.bias \t\t torch.Size([60])\n",
      "out.weight \t\t torch.Size([10, 60])\n",
      "out.bias \t\t torch.Size([10])\n"
     ]
    }
   ],
   "source": [
    "# 方法2： \n",
    "for name, param in network.named_parameters():\n",
    "    print(name,'\\t\\t', param.shape)"
   ]
  },
  {
   "cell_type": "markdown",
   "metadata": {},
   "source": [
    "### 3.7 pytorch可调用模块\n",
    "#### 3.7.1 Linear的工作原理"
   ]
  },
  {
   "cell_type": "code",
   "execution_count": 17,
   "metadata": {},
   "outputs": [
    {
     "data": {
      "text/plain": [
       "tensor([30., 40., 50.])"
      ]
     },
     "execution_count": 17,
     "metadata": {},
     "output_type": "execute_result"
    }
   ],
   "source": [
    "# 1. 张量的乘法\n",
    "in_features = torch.tensor([1,2,3,4], dtype=torch.float32)\n",
    "weight_matrix = torch.tensor([\n",
    "    [1,2,3,4],\n",
    "    [2,3,4,5],\n",
    "    [3,4,5,6]\n",
    "], dtype = torch.float32)\n",
    "weight_matrix.matmul(in_features)\n",
    "# weight_matrix * in_features\n",
    "# 可将上述的权重矩阵看作是一个线性映射（函数），其实现过程与pytorch中的线性层一样"
   ]
  },
  {
   "cell_type": "code",
   "execution_count": 18,
   "metadata": {},
   "outputs": [
    {
     "data": {
      "text/plain": [
       "tensor([-0.8088, -0.9360, -0.7387], grad_fn=<AddBackward0>)"
      ]
     },
     "execution_count": 18,
     "metadata": {},
     "output_type": "execute_result"
    }
   ],
   "source": [
    "# 2. 线性层\n",
    "fc = nn.Linear(in_features=4, out_features=3)\n",
    "# pytorch 线性层通过将数字4和3传递给构造函数，以创建一个3x4的权重矩阵\n",
    "# 查看in_features张量\n",
    "fc(in_features)\n",
    "# 此时的结果与上述不同是因为这里的weight_matrix是由随机值来初始化的"
   ]
  },
  {
   "cell_type": "code",
   "execution_count": 20,
   "metadata": {},
   "outputs": [
    {
     "data": {
      "text/plain": [
       "tensor([29.5197, 39.9233, 50.2926], grad_fn=<AddBackward0>)"
      ]
     },
     "execution_count": 20,
     "metadata": {},
     "output_type": "execute_result"
    }
   ],
   "source": [
    "# 在parameter类中包装一个权重矩阵，以使得输出结果与1中一样\n",
    "fc = nn.Linear(in_features=4, out_features=3)\n",
    "fc.weight= nn.Parameter(weight_matrix)\n",
    "fc(in_features)\n",
    "# 此时的结果接近1中的结果却不精确，是因为由bias的存在"
   ]
  },
  {
   "cell_type": "code",
   "execution_count": 19,
   "metadata": {},
   "outputs": [
    {
     "data": {
      "text/plain": [
       "tensor([30., 40., 50.], grad_fn=<SqueezeBackward3>)"
      ]
     },
     "execution_count": 19,
     "metadata": {},
     "output_type": "execute_result"
    }
   ],
   "source": [
    "# 给bias传递一个false值，以得到精确的输出\n",
    "fc = nn.Linear(in_features=4, out_features=3, bias =False)\n",
    "fc.weight = nn.Parameter(weight_matrix)\n",
    "fc(in_features)"
   ]
  },
  {
   "cell_type": "markdown",
   "metadata": {},
   "source": [
    "* 线性转换的数学表示：\n",
    "* y = Ax + b\n",
    "* A: 权重矩阵张量\n",
    "* x: 输入张量\n",
    "* b: 权重张量\n",
    "* y: 输出张量"
   ]
  },
  {
   "cell_type": "markdown",
   "metadata": {},
   "source": [
    "#### 3.7.2 特殊的调用\n"
   ]
  },
  {
   "cell_type": "code",
   "execution_count": 21,
   "metadata": {},
   "outputs": [
    {
     "name": "stdout",
     "output_type": "stream",
     "text": [
      "tensor([ 1.6503, -1.9069, -0.4868], grad_fn=<AddBackward0>)\n"
     ]
    }
   ],
   "source": [
    "import torch\n",
    "import torch.nn as nn\n",
    "\n",
    "fc = nn.Linear(in_features=4, out_features=3)\n",
    "t = torch.tensor([1,2,3,4],dtype=torch.float32)\n",
    "output = fc(t)\n",
    "\n",
    "print(output)"
   ]
  },
  {
   "cell_type": "markdown",
   "metadata": {},
   "source": [
    "### 3.8 CNN前向方法的实现\n",
    "* 前向方法的实现将使用我们在构造函数中定义的所有层\n",
    "* 前向方法实际上是输入张量到预测的输出张量的映射\n",
    "#### 3.8.1 Input Layer\n",
    "* 输入层是由输入数据决定的\n",
    "* 输入层可以看做是恒等变换 f(x)=x\n",
    "* 输入层通常是隐式存在的"
   ]
  },
  {
   "cell_type": "code",
   "execution_count": 1,
   "metadata": {},
   "outputs": [],
   "source": [
    "import torch.nn as nn\n",
    "import torch.nn.functional as F\n",
    "class Network(nn.Module):\n",
    "    def __init__(self):\n",
    "        super(Network, self).__init__()\n",
    "        # 如果计算输入层 则有一共6层网络\n",
    "        self.conv1 = nn.Conv2d(in_channels=1, out_channels=6, kernel_size=5)\n",
    "        self.conv2 = nn.Conv2d(in_channels=6, out_channels=12, kernel_size=5)\n",
    "        self.fc1 = nn.Linear(in_features=12*4*4, out_features=120)\n",
    "        self.fc2 = nn.Linear(in_features=120,out_features=60)\n",
    "        self.out = nn.Linear(in_features=60, out_features=10)\n",
    "    def forward(self,t):\n",
    "        # (1) input layer\n",
    "        t = t\n",
    "        # (2) hidden conv layer1\n",
    "        t = self.conv1(t)\n",
    "        t = F.relu(t)\n",
    "        t = F.max_pool2d(t, kernel_size=2, stride=2)\n",
    "        # (3) hidden conv layer2\n",
    "        t = self.conv2(t)\n",
    "        t = F.relu(t)\n",
    "        t = F.max_pool2d(t, kernel_size=2, stride=2)\n",
    "        # relu 和 max pooling 都没有权重；激活层和池化层的本质都是操作而非层；层与操作的不同之处在于，层有权重，操作没有\n",
    "        #（4）hidden linear layer2\n",
    "        # 从28*28 =》4*4\n",
    "        t = t.reshape(-1, 12*4*4)\n",
    "        t = self.fc1(t)\n",
    "        t = F.relu(t)\n",
    "        # (5) hidden linear layer2\n",
    "        t = self.fc2(t)\n",
    "        t = F.relu(t)\n",
    "        # (6) output layer\n",
    "        t = self.out(t)\n",
    "        # t= F.softmax(t, dim=1)  \n",
    "        # 这里暂不使用softmax，在训练中使用交叉熵损失可隐式的表示softmax\n",
    "        # 在隐藏层中，通常使用relu作为非线性激活函数\n",
    "        # 在输出层，有类别要预测时，使用\n",
    "        "
   ]
  },
  {
   "cell_type": "markdown",
   "metadata": {},
   "source": [
    "### 3.9 单张图像的预测\n",
    "#### 3.9.1 前向传播(forward propagation)\n",
    "* 是将输入张量转换为输出张量的过程（即：神经网络是将输入张量映射到输出张量的函数）\n",
    "* 前向传播只是将输入张量传递给网络并从网络接收输出的过程的一个特殊名称\n",
    "#### 3.9.2 反向传播(back propagation)\n",
    "* 反向传播通常在前向传播后发生\n",
    "* 使用torch.set_grad_enabled(False)来关闭pytorch的梯度计算，这将阻止pytorch在我们的张量通过网络时构建一个计算图\n",
    "* 计算图通过跟踪张量在网络中传播的每一个计算，来跟踪网络的映射；然后在训练过程中使用这个图来计算导数，也就是损失函数的梯度；关闭并非强制的，但可以减少内存。"
   ]
  },
  {
   "cell_type": "code",
   "execution_count": 1,
   "metadata": {
    "scrolled": false
   },
   "outputs": [
    {
     "name": "stdout",
     "output_type": "stream",
     "text": [
      "torch.Size([1, 28, 28])\n",
      "torch.Size([1, 1, 28, 28])\n",
      "torch.Size([1, 10])\n",
      "tensor([2])\n",
      "9\n"
     ]
    }
   ],
   "source": [
    "# 单张图像预测\n",
    "import torch\n",
    "import torch.nn as nn\n",
    "import torch.nn.functional as F\n",
    "\n",
    "import torchvision\n",
    "import torchvision.transforms as transforms\n",
    "\n",
    "# 设置打印格式\n",
    "torch.set_printoptions(linewidth=120)\n",
    "\n",
    "# 一、数据准备\n",
    "train_set = torchvision.datasets.FashionMNIST(\n",
    "    root = './data/FashionMNIST'\n",
    "    ,train = True\n",
    "    ,download = True\n",
    "    , transform = transforms.Compose([\n",
    "        transforms.ToTensor()\n",
    "    ])\n",
    ")\n",
    "# 二、创建网络\n",
    "class Network(nn.Module):\n",
    "    def __init__(self):\n",
    "        super(Network, self).__init__()\n",
    "        self.conv1 = nn.Conv2d(in_channels = 1, out_channels=6, kernel_size=5)\n",
    "        self.conv2 = nn.Conv2d(in_channels = 6, out_channels=12, kernel_size=5)\n",
    "        self.fc1 = nn.Linear(in_features = 12*4*4, out_features=120)\n",
    "        self.fc2 = nn.Linear(in_features = 120, out_features = 60)\n",
    "        self.out = nn.Linear(in_features = 60, out_features=10)\n",
    "    def forward(self, t):\n",
    "        # （1）Input Layer\n",
    "        t = t\n",
    "        # (2) hidden conv1\n",
    "        t = self.conv1(t)\n",
    "        t = F.relu(t)\n",
    "        t = F.max_pool2d(t, kernel_size=2, stride=2)\n",
    "        # (3) hidden conv2 \n",
    "        t = self.conv2(t)\n",
    "        t = F.relu(t)\n",
    "        t = F.max_pool2d(t, kernel_size=2, stride=2)\n",
    "        # (4) hidden linear1\n",
    "        t = t.reshape(-1, 12*4*4)\n",
    "        t = self.fc1(t)\n",
    "        t = F.relu(t)\n",
    "        # (5) hidden linear2\n",
    "        t = self.fc2(t)\n",
    "        t = F.relu(t)\n",
    "        # (6) output\n",
    "        t = self.out(t)\n",
    "        return t\n",
    "        \n",
    "# 调用network实例\n",
    "torch.set_grad_enabled(False)    #关闭pytorch的梯度计算 减少内存消耗\n",
    "network = Network()\n",
    "sample = next(iter(train_set))\n",
    "image, label = sample\n",
    "print(image.shape)\n",
    "# 显示图像和标签\n",
    "#plt.imshow(image.squeeze(), cmap='gray')    # 将[1, 28, 28]->[28,28]\n",
    "#print('label:', label)\n",
    "# 如上我们得到的图像的形状为[1,28,28];而网络期望的张量是【batchsize,channels, height, width】\n",
    "# 需要使用unsqueeze方法来为其增加一个维度\n",
    "print(image.unsqueeze(0).shape)\n",
    "# 对单张图像进行预测\n",
    "pred = network(image.unsqueeze(0))\n",
    "print(pred.shape)\n",
    "print(pred.argmax(dim=1))\n",
    "print(label)"
   ]
  },
  {
   "cell_type": "code",
   "execution_count": 2,
   "metadata": {},
   "outputs": [
    {
     "name": "stdout",
     "output_type": "stream",
     "text": [
      "tensor([[ 0.0801,  0.0494,  0.0995, -0.0642,  0.0210, -0.1083,  0.0775,  0.0131, -0.0436, -0.1027]])\n",
      "tensor([2])\n"
     ]
    }
   ],
   "source": [
    "print(pred)\n",
    "print(pred.argmax(dim=1))"
   ]
  },
  {
   "cell_type": "code",
   "execution_count": 3,
   "metadata": {},
   "outputs": [
    {
     "name": "stdout",
     "output_type": "stream",
     "text": [
      "tensor([[0.1078, 0.1046, 0.1099, 0.0933, 0.1016, 0.0893, 0.1075, 0.1008, 0.0953, 0.0898]])\n",
      "tensor(1.)\n"
     ]
    }
   ],
   "source": [
    "# 要想将预测值用概率表示，可以使用softmax\n",
    "print(F.softmax(pred, dim=1))\n",
    "print(F.softmax(pred, dim=1).sum())\n",
    "# 每个概率都接近10% 因为我们有来自十个类的平衡数据集\n",
    "# 同时使用不同的network实例 最终预测的值可能不一样"
   ]
  },
  {
   "cell_type": "markdown",
   "metadata": {},
   "source": [
    "### 3.10 单批次图像预测"
   ]
  },
  {
   "cell_type": "code",
   "execution_count": 4,
   "metadata": {},
   "outputs": [
    {
     "name": "stdout",
     "output_type": "stream",
     "text": [
      "1.7.1\n",
      "0.2.2\n"
     ]
    }
   ],
   "source": [
    "import torch\n",
    "import torch.nn\n",
    "import torch.nn.functional as F\n",
    "\n",
    "import torchvision\n",
    "import torchvision.transforms as transforms\n",
    "\n",
    "torch.set_printoptions(linewidth=120)\n",
    "\n",
    "print(torch.__version__)\n",
    "print(torchvision.__version__)"
   ]
  },
  {
   "cell_type": "code",
   "execution_count": 5,
   "metadata": {},
   "outputs": [],
   "source": [
    "# 数据准备\n",
    "train_set = torchvision.datasets.FashionMNIST(\n",
    "    root = './data/FashionMNIST'\n",
    "    ,train = True\n",
    "    ,download = True\n",
    "    ,transform = transforms.Compose([\n",
    "        transforms.ToTensor()\n",
    "    ]))"
   ]
  },
  {
   "cell_type": "code",
   "execution_count": 6,
   "metadata": {},
   "outputs": [],
   "source": [
    "# 网络创建\n",
    "class Network(nn.Module):\n",
    "    def __init__(self):\n",
    "        super(Network, self).__init__()\n",
    "        self.conv1 = nn.Conv2d(in_channels=1, out_channels=6, kernel_size=5)\n",
    "        self.conv2 = nn.Conv2d(in_channels=6, out_channels=12, kernel_size=5)\n",
    "        self.fc1 = nn.Linear(in_features=12*4*4, out_features=120)\n",
    "        self.fc2 = nn.Linear(in_features=120, out_features=60)\n",
    "        self.out = nn.Linear(in_features=60, out_features=10)\n",
    "    def forward(self, t):\n",
    "        #super(Network, self).__init__()\n",
    "        #(1)Input Layer\n",
    "        t = t\n",
    "        #(2)Conv1\n",
    "        t = F.relu(self.conv1(t))\n",
    "        t = F.max_pool2d(t, kernel_size=2, stride=2)\n",
    "        #(3)Conv2\n",
    "        t = F.relu(self.conv2(t))\n",
    "        t = F.max_pool2d(t, kernel_size=2, stride=2)\n",
    "        #(4)FC1\n",
    "        t = t.reshape(-1,12*4*4)\n",
    "        t = F.relu(self.fc1(t))\n",
    "        #(5)FC2\n",
    "        t = F.relu(self.fc2(t))\n",
    "        #(6)output\n",
    "        t = self.out(t)\n",
    "        return t"
   ]
  },
  {
   "cell_type": "code",
   "execution_count": 13,
   "metadata": {},
   "outputs": [
    {
     "name": "stdout",
     "output_type": "stream",
     "text": [
      "torch.Size([10, 1, 28, 28])\n",
      "torch.Size([10])\n"
     ]
    }
   ],
   "source": [
    "# 调用network实例\n",
    "torch.set_grad_enabled(False)\n",
    "network = Network()\n",
    "# 从dataloader中取出一批数据\n",
    "data_loader  = torch.utils.data.DataLoader(train_set, batch_size=10)\n",
    "batch = next(iter(data_loader))\n",
    "images, labels = batch\n",
    "print(images.shape)# batch_size channels height width\n",
    "print(labels.shape)# 10个图像标签"
   ]
  },
  {
   "cell_type": "code",
   "execution_count": 14,
   "metadata": {},
   "outputs": [
    {
     "name": "stdout",
     "output_type": "stream",
     "text": [
      "torch.Size([10, 10])\n",
      "tensor([[ 0.0914,  0.0176, -0.0970, -0.0124,  0.0808, -0.0391,  0.0120, -0.0206, -0.0948, -0.1051],\n",
      "        [ 0.0821,  0.0203, -0.0990, -0.0106,  0.0792, -0.0383,  0.0096, -0.0277, -0.0960, -0.1008],\n",
      "        [ 0.0913,  0.0212, -0.0957, -0.0051,  0.0842, -0.0409,  0.0101, -0.0240, -0.0955, -0.1020],\n",
      "        [ 0.0908,  0.0207, -0.0949, -0.0072,  0.0839, -0.0417,  0.0118, -0.0217, -0.0938, -0.1024],\n",
      "        [ 0.0863,  0.0192, -0.0995, -0.0038,  0.0820, -0.0376,  0.0097, -0.0272, -0.0974, -0.1028],\n",
      "        [ 0.0858,  0.0197, -0.0984, -0.0098,  0.0811, -0.0353,  0.0111, -0.0249, -0.0932, -0.1034],\n",
      "        [ 0.0849,  0.0189, -0.0956, -0.0123,  0.0786, -0.0409,  0.0124, -0.0226, -0.0941, -0.1012],\n",
      "        [ 0.0877,  0.0216, -0.1003, -0.0090,  0.0776, -0.0345,  0.0097, -0.0241, -0.0904, -0.1010],\n",
      "        [ 0.0889,  0.0200, -0.0937, -0.0129,  0.0847, -0.0398,  0.0073, -0.0237, -0.0955, -0.1065],\n",
      "        [ 0.0934,  0.0205, -0.0917, -0.0101,  0.0852, -0.0402,  0.0059, -0.0243, -0.0941, -0.1068]])\n"
     ]
    }
   ],
   "source": [
    "pred = network(images)\n",
    "print(pred.shape)\n",
    "print(pred)"
   ]
  },
  {
   "cell_type": "code",
   "execution_count": 15,
   "metadata": {},
   "outputs": [
    {
     "name": "stdout",
     "output_type": "stream",
     "text": [
      "tensor([0, 0, 0, 0, 0, 0, 0, 0, 0, 0])\n",
      "tensor([9, 0, 0, 3, 0, 2, 7, 2, 5, 5])\n"
     ]
    }
   ],
   "source": [
    "print(pred.argmax(dim=1))\n",
    "print(labels)"
   ]
  },
  {
   "cell_type": "code",
   "execution_count": 16,
   "metadata": {},
   "outputs": [
    {
     "data": {
      "text/plain": [
       "tensor([False,  True,  True, False,  True, False, False, False, False, False])"
      ]
     },
     "execution_count": 16,
     "metadata": {},
     "output_type": "execute_result"
    }
   ],
   "source": [
    "pred.argmax(dim=1).eq(labels)"
   ]
  },
  {
   "cell_type": "code",
   "execution_count": 17,
   "metadata": {},
   "outputs": [
    {
     "data": {
      "text/plain": [
       "tensor(3)"
      ]
     },
     "execution_count": 17,
     "metadata": {},
     "output_type": "execute_result"
    }
   ],
   "source": [
    "pred.argmax(dim=1).eq(labels).sum()"
   ]
  },
  {
   "cell_type": "code",
   "execution_count": null,
   "metadata": {},
   "outputs": [],
   "source": [
    "def get_num_correct(preds, labels):\n",
    "    return preds.argmax(dim=1).eq(labels).sum().item()"
   ]
  },
  {
   "cell_type": "code",
   "execution_count": 60,
   "metadata": {},
   "outputs": [
    {
     "name": "stdout",
     "output_type": "stream",
     "text": [
      "tensor([[0.1023, 0.1040, 0.0945, 0.0991, 0.0894, 0.0896, 0.1054, 0.1039, 0.0991, 0.1127],\n",
      "        [0.1026, 0.1044, 0.0943, 0.0985, 0.0915, 0.0893, 0.1046, 0.1040, 0.0983, 0.1125],\n",
      "        [0.1032, 0.1029, 0.0947, 0.0987, 0.0907, 0.0896, 0.1049, 0.1044, 0.0979, 0.1130],\n",
      "        [0.1032, 0.1035, 0.0946, 0.0985, 0.0908, 0.0893, 0.1052, 0.1042, 0.0978, 0.1128],\n",
      "        [0.1026, 0.1042, 0.0942, 0.0986, 0.0903, 0.0892, 0.1054, 0.1041, 0.0988, 0.1126],\n",
      "        [0.1029, 0.1048, 0.0939, 0.0983, 0.0907, 0.0898, 0.1048, 0.1036, 0.0983, 0.1129],\n",
      "        [0.1025, 0.1038, 0.0955, 0.0983, 0.0913, 0.0893, 0.1047, 0.1036, 0.0973, 0.1138],\n",
      "        [0.1023, 0.1053, 0.0937, 0.0983, 0.0900, 0.0898, 0.1050, 0.1033, 0.0992, 0.1130],\n",
      "        [0.1030, 0.1024, 0.0944, 0.0994, 0.0907, 0.0896, 0.1049, 0.1042, 0.0981, 0.1133],\n",
      "        [0.1028, 0.1028, 0.0943, 0.0997, 0.0896, 0.0901, 0.1048, 0.1038, 0.0992, 0.1128]])\n",
      "tensor(10.)\n"
     ]
    }
   ],
   "source": [
    "print(F.softmax(pred, dim=1))\n",
    "print(F.softmax(pred,dim=1).sum())"
   ]
  },
  {
   "cell_type": "markdown",
   "metadata": {},
   "source": [
    "### 3.11 输入张量在通过CNN的过程中的变化\n",
    "#### 3.11.1 CNN 输出特征图尺寸(正方形)\n",
    "* 假设输入特征的大小为n x n\n",
    "* 假设滤波器的大小为 f x f\n",
    "* 令padding为p，步长stride为s\n",
    "* 则输出特征图的大小为 O = ( n - f + 2p )/s + 1\n",
    "#### 3.11.2 CNN 输出特征图尺寸(非正方形)\n",
    "* 假设输入特征的大小为 nh x nw\n",
    "* 假设滤波器的大小为 fh x fw\n",
    "* 令padding为p，步长stride为s\n",
    "* 则输出特征图的高度为 Oh = (nh - fh + 2p)/s + 1\n",
    "* 输出特征图的宽度为 Ow = (nw - fw + 2p)/s + 1\n",
    "\n",
    "pytorch中池化层MaxPool2d函数的stride参数默认值是kernel_size"
   ]
  },
  {
   "cell_type": "markdown",
   "metadata": {},
   "source": [
    "### 3.12 训练神经网络的步骤\n",
    "#### 3.12.1 训练神经网络的七个步骤\n",
    "* 从训练集中获取批量数据\n",
    "* 将批量数据传入网络\n",
    "* 计算损失(预测值与真实值之间的差)【需要loss function实现】\n",
    "* 计算损失函数的梯度  【需要back propagation实现】\n",
    "* 通过上一步计算的梯度来更新权重，进而减少损失【需要optimization algorithm实现】\n",
    "* 重复1-5步直到一个epoch执行完成\n",
    "* 重复1-6步直到所设定的epochs执行完成并得到满意的accuracy\n",
    "#### 3.12.2 单批次图像训练"
   ]
  },
  {
   "cell_type": "code",
   "execution_count": 18,
   "metadata": {},
   "outputs": [
    {
     "name": "stdout",
     "output_type": "stream",
     "text": [
      "1.7.1\n",
      "0.2.2\n"
     ]
    }
   ],
   "source": [
    "import torch\n",
    "import torch.nn as nn\n",
    "import torch.nn.functional as F\n",
    "import torch.optim as optim # 使用这个更新权重\n",
    "\n",
    "import torchvision\n",
    "import torchvision.transforms as transforms\n",
    "\n",
    "torch.set_printoptions(linewidth=120)\n",
    "torch.set_grad_enabled(True)  # 这里并不是必须的，默认情况下是打开的\n",
    "\n",
    "print(torch.__version__)\n",
    "print(torchvision.__version__)"
   ]
  },
  {
   "cell_type": "code",
   "execution_count": 19,
   "metadata": {},
   "outputs": [],
   "source": [
    "def get_num_correct(preds, labels):\n",
    "    return preds.argmax(dim=1).eq(labels).sum().item()"
   ]
  },
  {
   "cell_type": "code",
   "execution_count": 20,
   "metadata": {},
   "outputs": [],
   "source": [
    "# 一、训练数据获取\n",
    "train_set = torchvision.datasets.FashionMNIST(\n",
    "    root = './data/FashionMNIST',\n",
    "    train = True,\n",
    "    download = True,\n",
    "    transform = transforms.Compose([\n",
    "        transforms.ToTensor()\n",
    "    ])\n",
    "    )"
   ]
  },
  {
   "cell_type": "code",
   "execution_count": 21,
   "metadata": {},
   "outputs": [],
   "source": [
    "# 二、创建网络\n",
    "class Network(nn.Module):\n",
    "    def __init__(self):\n",
    "        super(Network, self).__init__()\n",
    "        self.conv1 = nn.Conv2d(in_channels=1, out_channels=6, kernel_size=5)\n",
    "        self.conv2 = nn.Conv2d(in_channels=6, out_channels=12, kernel_size=5)\n",
    "        self.fc1 = nn.Linear(in_features=12*4*4, out_features=120)\n",
    "        self.fc2 = nn.Linear(in_features=120, out_features=60)\n",
    "        self.out = nn.Linear(in_features=60, out_features=10)\n",
    "    \n",
    "    def forward(self, t):\n",
    "        # Input Layer\n",
    "        t = t\n",
    "        # Conv1\n",
    "        t = F.relu(self.conv1(t))\n",
    "        t = F.max_pool2d(t, kernel_size=2, stride=2)\n",
    "        # Conv2\n",
    "        t = F.relu(self.conv2(t))\n",
    "        t = F.max_pool2d(t, kernel_size=2, stride=2)\n",
    "        # FC1\n",
    "        t = t.reshape(-1, 12*4*4)\n",
    "        t = F.relu(self.fc1(t))\n",
    "        # FC2\n",
    "        t = F.relu(self.fc2(t))\n",
    "        # Output\n",
    "        t = self.out(t)\n",
    "        return t"
   ]
  },
  {
   "cell_type": "code",
   "execution_count": 22,
   "metadata": {},
   "outputs": [
    {
     "data": {
      "text/plain": [
       "2.3032164573669434"
      ]
     },
     "execution_count": 22,
     "metadata": {},
     "output_type": "execute_result"
    }
   ],
   "source": [
    "# 调用network实例\n",
    "network = Network()\n",
    "train_loader = torch.utils.data.DataLoader(train_set, batch_size=100)\n",
    "batch = next(iter(train_loader))\n",
    "images, labels = batch\n",
    "# 计算损失\n",
    "preds = network(images)\n",
    "loss = F.cross_entropy(preds,labels)\n",
    "loss.item()   #获得损失的值"
   ]
  },
  {
   "cell_type": "code",
   "execution_count": 23,
   "metadata": {},
   "outputs": [
    {
     "name": "stdout",
     "output_type": "stream",
     "text": [
      "None\n"
     ]
    }
   ],
   "source": [
    "print(network.conv1.weight.grad)"
   ]
  },
  {
   "cell_type": "code",
   "execution_count": 24,
   "metadata": {},
   "outputs": [],
   "source": [
    "# 计算损失的梯度\n",
    "loss.backward()      #反向传播"
   ]
  },
  {
   "cell_type": "code",
   "execution_count": 25,
   "metadata": {},
   "outputs": [
    {
     "data": {
      "text/plain": [
       "torch.Size([6, 1, 5, 5])"
      ]
     },
     "execution_count": 25,
     "metadata": {},
     "output_type": "execute_result"
    }
   ],
   "source": [
    "# 与weight tensor的shape一样\n",
    "network.conv1.weight.grad.shape"
   ]
  },
  {
   "cell_type": "code",
   "execution_count": 26,
   "metadata": {
    "scrolled": true
   },
   "outputs": [
    {
     "data": {
      "text/plain": [
       "2.3032164573669434"
      ]
     },
     "execution_count": 26,
     "metadata": {},
     "output_type": "execute_result"
    }
   ],
   "source": [
    "# 更新权重\n",
    "optimizer = optim.Adam(network.parameters(), lr =0.01) # or SGD\n",
    "loss.item()      # 显示当前loss值"
   ]
  },
  {
   "cell_type": "code",
   "execution_count": 27,
   "metadata": {},
   "outputs": [
    {
     "name": "stdout",
     "output_type": "stream",
     "text": [
      "11\n"
     ]
    }
   ],
   "source": [
    "# 定义函数用于计算预测正确的数目\n",
    "def get_num_correct(preds, labels):\n",
    "    return preds.argmax(dim=1).eq(labels).sum().item()\n",
    "print(get_num_correct(preds, labels))\n",
    "# 更新权重\n",
    "optimizer.step()"
   ]
  },
  {
   "cell_type": "code",
   "execution_count": 28,
   "metadata": {},
   "outputs": [
    {
     "name": "stdout",
     "output_type": "stream",
     "text": [
      "2.2595937252044678\n",
      "13\n"
     ]
    }
   ],
   "source": [
    "preds = network(images)\n",
    "loss = F.cross_entropy(preds,labels)\n",
    "print(loss.item())\n",
    "print(get_num_correct(preds, labels))"
   ]
  },
  {
   "cell_type": "markdown",
   "metadata": {},
   "source": [
    "#### 3.12.3 单批次网络训练步骤总结\n",
    "* 从训练集中获取批量数据（lr为学习率:即朝着loss最小的方向走多远）"
   ]
  },
  {
   "cell_type": "code",
   "execution_count": 29,
   "metadata": {},
   "outputs": [],
   "source": [
    "network = Network()\n",
    "train_loader = torch.utils.data.DataLoader(train_set, batch_size=100)\n",
    "optimizer = optim.Adam(network.parameters(), lr = 0.01)\n",
    "batch = next(iter(train_loader))"
   ]
  },
  {
   "cell_type": "markdown",
   "metadata": {},
   "source": [
    "* 将批量数据传入network"
   ]
  },
  {
   "cell_type": "code",
   "execution_count": 30,
   "metadata": {},
   "outputs": [],
   "source": [
    "preds = network(images)"
   ]
  },
  {
   "cell_type": "markdown",
   "metadata": {},
   "source": [
    "* 计算loss"
   ]
  },
  {
   "cell_type": "code",
   "execution_count": 31,
   "metadata": {},
   "outputs": [],
   "source": [
    "loss = F.cross_entropy(preds, labels)"
   ]
  },
  {
   "cell_type": "markdown",
   "metadata": {},
   "source": [
    "* 计算loss的梯度"
   ]
  },
  {
   "cell_type": "code",
   "execution_count": 32,
   "metadata": {},
   "outputs": [],
   "source": [
    "loss.backward()"
   ]
  },
  {
   "cell_type": "markdown",
   "metadata": {},
   "source": [
    "* 使用计算出的梯度来更新权重，从而减少loss"
   ]
  },
  {
   "cell_type": "code",
   "execution_count": 33,
   "metadata": {},
   "outputs": [
    {
     "name": "stdout",
     "output_type": "stream",
     "text": [
      "loss1: 2.3074889183044434\n",
      "loss2: 2.273800849914551\n"
     ]
    }
   ],
   "source": [
    "optimizer.step()\n",
    "print('loss1:',loss.item())  #更新前的loss\n",
    "preds = network(images)\n",
    "loss = F.cross_entropy(preds, labels)\n",
    "print('loss2:',loss.item())"
   ]
  },
  {
   "cell_type": "markdown",
   "metadata": {},
   "source": [
    "### 3.13 单周期(epoch)CNN的循环训练"
   ]
  },
  {
   "cell_type": "code",
   "execution_count": 1,
   "metadata": {},
   "outputs": [
    {
     "name": "stdout",
     "output_type": "stream",
     "text": [
      "1.7.1\n",
      "0.2.2\n"
     ]
    }
   ],
   "source": [
    "import torch\n",
    "import torch.nn as nn\n",
    "import torch.nn.functional as F\n",
    "import torch.optim as optim\n",
    "\n",
    "import torchvision\n",
    "import torchvision.transforms as transforms\n",
    "\n",
    "torch.set_printoptions(linewidth=120)\n",
    "torch.set_grad_enabled(True)\n",
    "\n",
    "print(torch.__version__)\n",
    "print(torchvision.__version__)"
   ]
  },
  {
   "cell_type": "code",
   "execution_count": 2,
   "metadata": {},
   "outputs": [],
   "source": [
    "# 数据准备\n",
    "train_set = torchvision.datasets.FashionMNIST(\n",
    "    root = './data/FashionMNIST',\n",
    "    train = True,\n",
    "    download = True,\n",
    "    transform = transforms.Compose([\n",
    "        transforms.ToTensor()\n",
    "    ])\n",
    ")"
   ]
  },
  {
   "cell_type": "code",
   "execution_count": 3,
   "metadata": {},
   "outputs": [],
   "source": [
    "# 创建网络\n",
    "class Network(nn.Module):\n",
    "    def __init__(self):\n",
    "        super(Network,self).__init__()\n",
    "        self.conv1 = nn.Conv2d(in_channels=1, out_channels=6, kernel_size=5)\n",
    "        self.conv2 = nn.Conv2d(in_channels=6, out_channels=12, kernel_size=5)\n",
    "        self.fc1 = nn.Linear(in_features= 12*4*4, out_features=120)\n",
    "        self.fc2 = nn.Linear(in_features= 120, out_features=60)\n",
    "        self.out = nn.Linear(in_features=60, out_features=10)\n",
    "    \n",
    "    def forward(self, t):\n",
    "        t = t\n",
    "        t = F.relu(self.conv1(t))\n",
    "        t = F.max_pool2d(t, kernel_size =2, stride=2)\n",
    "        t = F.relu(self.conv2(t))\n",
    "        t = F.max_pool2d(t, kernel_size=2, stride=2)\n",
    "        t = t.reshape(-1, 12*4*4)\n",
    "        t = F.relu(self.fc1(t))\n",
    "        t = F.relu(self.fc2(t))\n",
    "        t = self.out(t)\n",
    "        return t\n",
    "        "
   ]
  },
  {
   "cell_type": "code",
   "execution_count": 4,
   "metadata": {},
   "outputs": [],
   "source": [
    "def get_num_correct(preds, labels):\n",
    "    return preds.argmax(dim=1).eq(labels).sum().item()"
   ]
  },
  {
   "cell_type": "code",
   "execution_count": 5,
   "metadata": {},
   "outputs": [
    {
     "name": "stdout",
     "output_type": "stream",
     "text": [
      "epoch: 1 loss: 237.55161373317242 total_correct: 51214\n"
     ]
    }
   ],
   "source": [
    "# 创建网络实例\n",
    "network = Network()\n",
    "train_loader = torch.utils.data.DataLoader(train_set, batch_size=100)\n",
    "optimizer = optim.Adam(network.parameters(), lr=0.01)\n",
    "for epoch in range(2):\n",
    "    total_loss = 0\n",
    "    total_correct = 0\n",
    "    for batch in train_loader:   # Get batch\n",
    "        images, labels =batch\n",
    "        preds = network(images)\n",
    "        loss = F.cross_entropy(preds, labels)\n",
    "        optimizer.zero_grad()  #告诉优化器把梯度属性中权重的梯度归零，否则pytorch会累积梯度\n",
    "        loss.backward() # 计算梯度\n",
    "        optimizer.step() # 更新权重\n",
    "        \n",
    "        total_loss += loss.item()\n",
    "        total_correct += get_num_correct(preds, labels)\n",
    "    print(\"epoch:\",epoch,\"loss:\",total_loss,\"total_correct:\",total_correct)"
   ]
  },
  {
   "cell_type": "code",
   "execution_count": 6,
   "metadata": {},
   "outputs": [
    {
     "name": "stdout",
     "output_type": "stream",
     "text": [
      "accuracy: 0.8535666666666667\n"
     ]
    }
   ],
   "source": [
    "accuracy = total_correct/len(train_set)\n",
    "print(\"accuracy:\",accuracy)"
   ]
  },
  {
   "cell_type": "markdown",
   "metadata": {},
   "source": [
    "* 每个周期的迭代数 = 数据总数/batchsize（当改变batchsize时，也就是改变了更新权重的次数，也就是朝损失函数最小的防线前进的步数）\n",
    "* accuracy = total_correct/len(train_set)\n",
    "* 梯度：告诉我们应该走哪条路能更快的到达loss最小"
   ]
  },
  {
   "cell_type": "markdown",
   "metadata": {},
   "source": [
    "### 3.14 神经网络的混淆矩阵\n",
    "* 创建混淆矩阵的两个条件:一个预测的张量和一个有相应真值或标签的张量"
   ]
  },
  {
   "cell_type": "code",
   "execution_count": 7,
   "metadata": {},
   "outputs": [
    {
     "data": {
      "text/plain": [
       "60000"
      ]
     },
     "execution_count": 7,
     "metadata": {},
     "output_type": "execute_result"
    }
   ],
   "source": [
    "# 在3.13训练后网络的基础上进行分析\n",
    "len(train_set)"
   ]
  },
  {
   "cell_type": "code",
   "execution_count": 8,
   "metadata": {},
   "outputs": [
    {
     "data": {
      "text/plain": [
       "60000"
      ]
     },
     "execution_count": 8,
     "metadata": {},
     "output_type": "execute_result"
    }
   ],
   "source": [
    "len(train_set.targets)"
   ]
  },
  {
   "cell_type": "markdown",
   "metadata": {},
   "source": [
    "对整个训练集进行预测"
   ]
  },
  {
   "cell_type": "code",
   "execution_count": 9,
   "metadata": {},
   "outputs": [],
   "source": [
    "def get_all_preds(model,loader):\n",
    "    all_preds = torch.tensor([])\n",
    "    for batch in loader:\n",
    "        images,labels = batch\n",
    "        preds = model(images)\n",
    "        all_preds = torch.cat((all_preds,preds), dim=0)\n",
    "    return all_preds"
   ]
  },
  {
   "cell_type": "code",
   "execution_count": 10,
   "metadata": {},
   "outputs": [],
   "source": [
    "prediction_loader = torch.utils.data.DataLoader(train_set, batch_size=10000)\n",
    "train_preds = get_all_preds(network, prediction_loader)"
   ]
  },
  {
   "cell_type": "code",
   "execution_count": 11,
   "metadata": {},
   "outputs": [
    {
     "data": {
      "text/plain": [
       "torch.Size([60000, 10])"
      ]
     },
     "execution_count": 11,
     "metadata": {},
     "output_type": "execute_result"
    }
   ],
   "source": [
    "train_preds.shape"
   ]
  },
  {
   "cell_type": "code",
   "execution_count": 12,
   "metadata": {},
   "outputs": [
    {
     "name": "stdout",
     "output_type": "stream",
     "text": [
      "True\n"
     ]
    }
   ],
   "source": [
    "print(train_preds.requires_grad)   #查看训练预测张量的梯度属性"
   ]
  },
  {
   "cell_type": "code",
   "execution_count": 13,
   "metadata": {},
   "outputs": [
    {
     "name": "stderr",
     "output_type": "stream",
     "text": [
      "<ipython-input-13-b14c2fdff3cd>:1: UserWarning: The .grad attribute of a Tensor that is not a leaf Tensor is being accessed. Its .grad attribute won't be populated during autograd.backward(). If you indeed want the gradient for a non-leaf Tensor, use .retain_grad() on the non-leaf Tensor. If you access the non-leaf Tensor by mistake, make sure you access the leaf Tensor instead. See github.com/pytorch/pytorch/pull/30531 for more informations.\n",
      "  train_preds.grad\n"
     ]
    }
   ],
   "source": [
    "train_preds.grad\n",
    "# 即使训练中关于梯度张量的跟踪已打开，但在没有进行反向传播的情况下依旧不会有梯度的值"
   ]
  },
  {
   "cell_type": "code",
   "execution_count": 14,
   "metadata": {},
   "outputs": [
    {
     "data": {
      "text/plain": [
       "<CatBackward at 0x1b7db184e80>"
      ]
     },
     "execution_count": 14,
     "metadata": {},
     "output_type": "execute_result"
    }
   ],
   "source": [
    "train_preds.grad_fn   # 由于train_preds是经过函数产生的，故具有该属性"
   ]
  },
  {
   "cell_type": "code",
   "execution_count": 15,
   "metadata": {},
   "outputs": [],
   "source": [
    "# 局部关闭梯度跟踪以减小内存损耗,也可使用torch.set.grad.enabled(False)进行全局关闭\n",
    "with torch.no_grad():\n",
    "    prediction_loader = torch.utils.data.DataLoader(train_set, batch_size=1000)\n",
    "    train_preds = get_all_preds(network, prediction_loader)"
   ]
  },
  {
   "cell_type": "code",
   "execution_count": 16,
   "metadata": {},
   "outputs": [
    {
     "data": {
      "text/plain": [
       "60000"
      ]
     },
     "execution_count": 16,
     "metadata": {},
     "output_type": "execute_result"
    }
   ],
   "source": [
    "len(train_preds)"
   ]
  },
  {
   "cell_type": "code",
   "execution_count": 17,
   "metadata": {},
   "outputs": [
    {
     "name": "stdout",
     "output_type": "stream",
     "text": [
      "False\n"
     ]
    }
   ],
   "source": [
    "print(train_preds.requires_grad)"
   ]
  },
  {
   "cell_type": "code",
   "execution_count": 18,
   "metadata": {},
   "outputs": [],
   "source": [
    "train_preds.grad"
   ]
  },
  {
   "cell_type": "code",
   "execution_count": 19,
   "metadata": {},
   "outputs": [],
   "source": [
    "train_preds.grad_fn"
   ]
  },
  {
   "cell_type": "code",
   "execution_count": 20,
   "metadata": {},
   "outputs": [
    {
     "name": "stdout",
     "output_type": "stream",
     "text": [
      "total_correct: 51080\n",
      "accuracy: 0.8513333333333334\n"
     ]
    }
   ],
   "source": [
    "preds_correct = get_num_correct(train_preds, train_set.targets)\n",
    "print(\"total_correct:\",preds_correct)\n",
    "print(\"accuracy:\",preds_correct/len(train_set))"
   ]
  },
  {
   "cell_type": "markdown",
   "metadata": {},
   "source": [
    "绘制混淆矩阵(方法1：)"
   ]
  },
  {
   "cell_type": "code",
   "execution_count": 21,
   "metadata": {},
   "outputs": [
    {
     "name": "stdout",
     "output_type": "stream",
     "text": [
      "tensor([9, 0, 0,  ..., 3, 0, 5])\n",
      "torch.Size([60000])\n"
     ]
    }
   ],
   "source": [
    "print(train_set.targets)\n",
    "print(train_set.targets.shape)"
   ]
  },
  {
   "cell_type": "code",
   "execution_count": 22,
   "metadata": {},
   "outputs": [
    {
     "name": "stdout",
     "output_type": "stream",
     "text": [
      "tensor([9, 0, 3,  ..., 3, 0, 5])\n",
      "torch.Size([60000])\n"
     ]
    }
   ],
   "source": [
    "print(train_preds.argmax(dim=1))\n",
    "print(train_preds.argmax(dim=1).shape)"
   ]
  },
  {
   "cell_type": "code",
   "execution_count": 23,
   "metadata": {},
   "outputs": [
    {
     "data": {
      "text/plain": [
       "tensor([[9, 9],\n",
       "        [0, 0],\n",
       "        [0, 3],\n",
       "        ...,\n",
       "        [3, 3],\n",
       "        [0, 0],\n",
       "        [5, 5]])"
      ]
     },
     "execution_count": 23,
     "metadata": {},
     "output_type": "execute_result"
    }
   ],
   "source": [
    "stack = torch.stack((train_set.targets, train_preds.argmax(dim=1)),dim=1)\n",
    "stack"
   ]
  },
  {
   "cell_type": "code",
   "execution_count": 24,
   "metadata": {},
   "outputs": [
    {
     "data": {
      "text/plain": [
       "[9, 9]"
      ]
     },
     "execution_count": 24,
     "metadata": {},
     "output_type": "execute_result"
    }
   ],
   "source": [
    "# 使用tolist方法可访问【target，pred】对\n",
    "stack[0].tolist()"
   ]
  },
  {
   "cell_type": "code",
   "execution_count": 25,
   "metadata": {},
   "outputs": [],
   "source": [
    "# 创建一个混淆矩阵(初始)\n",
    "cmt = torch.zeros(10,10,dtype=torch.int32)"
   ]
  },
  {
   "cell_type": "code",
   "execution_count": 26,
   "metadata": {},
   "outputs": [],
   "source": [
    "# 遍历所有的对，并计算每个组合发生的次数\n",
    "for p in stack:\n",
    "    tl,pl = p.tolist()\n",
    "    cmt[tl,pl] = cmt[tl,pl] + 1"
   ]
  },
  {
   "cell_type": "code",
   "execution_count": 27,
   "metadata": {},
   "outputs": [
    {
     "data": {
      "text/plain": [
       "tensor([[5264,    7,   42,  173,   14,    5,  396,    0,   99,    0],\n",
       "        [  26, 5790,    7,  157,    3,    3,    4,    0,    9,    1],\n",
       "        [  97,    3, 3708,   91, 1158,    1,  835,    0,  107,    0],\n",
       "        [ 231,   15,   10, 5495,  120,    2,  106,    0,   21,    0],\n",
       "        [   9,    4,  140,  289, 4776,    0,  711,    2,   69,    0],\n",
       "        [   5,    2,    2,    3,    0, 5298,    0,  302,  248,  140],\n",
       "        [1333,    9,  353,  157,  415,    0, 3566,    0,  166,    1],\n",
       "        [   0,    0,    0,    0,    0,   34,    0, 5827,   49,   90],\n",
       "        [  14,    0,   20,   26,   11,    5,   37,    5, 5880,    2],\n",
       "        [   0,    0,    0,    0,    1,   10,    0,  503,   10, 5476]], dtype=torch.int32)"
      ]
     },
     "execution_count": 27,
     "metadata": {},
     "output_type": "execute_result"
    }
   ],
   "source": [
    "cmt"
   ]
  },
  {
   "cell_type": "code",
   "execution_count": 29,
   "metadata": {},
   "outputs": [
    {
     "name": "stdout",
     "output_type": "stream",
     "text": [
      "Confusion matrix, without normalization\n",
      "tensor([[5264,    7,   42,  173,   14,    5,  396,    0,   99,    0],\n",
      "        [  26, 5790,    7,  157,    3,    3,    4,    0,    9,    1],\n",
      "        [  97,    3, 3708,   91, 1158,    1,  835,    0,  107,    0],\n",
      "        [ 231,   15,   10, 5495,  120,    2,  106,    0,   21,    0],\n",
      "        [   9,    4,  140,  289, 4776,    0,  711,    2,   69,    0],\n",
      "        [   5,    2,    2,    3,    0, 5298,    0,  302,  248,  140],\n",
      "        [1333,    9,  353,  157,  415,    0, 3566,    0,  166,    1],\n",
      "        [   0,    0,    0,    0,    0,   34,    0, 5827,   49,   90],\n",
      "        [  14,    0,   20,   26,   11,    5,   37,    5, 5880,    2],\n",
      "        [   0,    0,    0,    0,    1,   10,    0,  503,   10, 5476]], dtype=torch.int32)\n"
     ]
    },
    {
     "data": {
      "image/png": "[encoded data removed]",
      "text/plain": [
       "<Figure size 720x720 with 2 Axes>"
      ]
     },
     "metadata": {
      "needs_background": "light"
     },
     "output_type": "display_data"
    }
   ],
   "source": [
    "import matplotlib.pyplot as plt\n",
    "\n",
    "#from sklearn.metrics import confusion_matrix\n",
    "from resources.plotcm import plot_confusion_matrix\n",
    "\n",
    "#cm = confusion_matrix(train_set.targets,train_preds.argmax(dim=1))\n",
    "names = (\n",
    "    'T-shirt/top',\n",
    "    'Trouser',\n",
    "    'Pullover',\n",
    "    'Dress',\n",
    "    'Coat',\n",
    "    'Sandal',\n",
    "    'Shirt',\n",
    "    'Sneaker',\n",
    "    'Bag',\n",
    "    'Ankle boot')\n",
    "plt.figure(figsize=(10,10))\n",
    "plot_confusion_matrix(cmt, names)"
   ]
  },
  {
   "cell_type": "markdown",
   "metadata": {},
   "source": [
    "绘制混淆矩阵(方法2：)"
   ]
  },
  {
   "cell_type": "code",
   "execution_count": 31,
   "metadata": {},
   "outputs": [
    {
     "data": {
      "text/plain": [
       "array([[5264,    7,   42,  173,   14,    5,  396,    0,   99,    0],\n",
       "       [  26, 5790,    7,  157,    3,    3,    4,    0,    9,    1],\n",
       "       [  97,    3, 3708,   91, 1158,    1,  835,    0,  107,    0],\n",
       "       [ 231,   15,   10, 5495,  120,    2,  106,    0,   21,    0],\n",
       "       [   9,    4,  140,  289, 4776,    0,  711,    2,   69,    0],\n",
       "       [   5,    2,    2,    3,    0, 5298,    0,  302,  248,  140],\n",
       "       [1333,    9,  353,  157,  415,    0, 3566,    0,  166,    1],\n",
       "       [   0,    0,    0,    0,    0,   34,    0, 5827,   49,   90],\n",
       "       [  14,    0,   20,   26,   11,    5,   37,    5, 5880,    2],\n",
       "       [   0,    0,    0,    0,    1,   10,    0,  503,   10, 5476]],\n",
       "      dtype=int64)"
      ]
     },
     "execution_count": 31,
     "metadata": {},
     "output_type": "execute_result"
    }
   ],
   "source": [
    "import matplotlib.pyplot as plt\n",
    "from sklearn.metrics import confusion_matrix\n",
    "from resources.plotcm import plot_confusion_matrix  # plotcm.py文件位于当前文件resources中\n",
    "\n",
    "cm = confusion_matrix(train_set.targets, train_preds.argmax(dim=1))\n",
    "cm"
   ]
  },
  {
   "cell_type": "code",
   "execution_count": 32,
   "metadata": {},
   "outputs": [
    {
     "name": "stdout",
     "output_type": "stream",
     "text": [
      "Confusion matrix, without normalization\n",
      "[[5264    7   42  173   14    5  396    0   99    0]\n",
      " [  26 5790    7  157    3    3    4    0    9    1]\n",
      " [  97    3 3708   91 1158    1  835    0  107    0]\n",
      " [ 231   15   10 5495  120    2  106    0   21    0]\n",
      " [   9    4  140  289 4776    0  711    2   69    0]\n",
      " [   5    2    2    3    0 5298    0  302  248  140]\n",
      " [1333    9  353  157  415    0 3566    0  166    1]\n",
      " [   0    0    0    0    0   34    0 5827   49   90]\n",
      " [  14    0   20   26   11    5   37    5 5880    2]\n",
      " [   0    0    0    0    1   10    0  503   10 5476]]\n"
     ]
    },
    {
     "data": {
      "image/png": "[encoded data removed]",
      "text/plain": [
       "<Figure size 720x720 with 2 Axes>"
      ]
     },
     "metadata": {
      "needs_background": "light"
     },
     "output_type": "display_data"
    }
   ],
   "source": [
    "names = (\n",
    "    'T-shirt/top',\n",
    "    'Trouser',\n",
    "    'Pullover',\n",
    "    'Dress',\n",
    "    'Coat',\n",
    "    'Sandal',\n",
    "    'Shirt',\n",
    "    'Sneaker',\n",
    "    'Bag',\n",
    "    'Ankle boot')\n",
    "plt.figure(figsize=(10,10))\n",
    "plot_confusion_matrix(cm, names)"
   ]
  },
  {
   "cell_type": "markdown",
   "metadata": {},
   "source": [
    "### 3.15 concatenating和stacking的区分\n",
    "* concatenating是在一个现有的轴上连接一系列的张量\n",
    "* stacking是在一个新的轴上连接一系列的张量(即，我们在所有的张量中创建一个新轴)"
   ]
  },
  {
   "cell_type": "code",
   "execution_count": 33,
   "metadata": {},
   "outputs": [
    {
     "name": "stdout",
     "output_type": "stream",
     "text": [
      "tensor([[1, 1, 1]])\n",
      "torch.Size([1, 3])\n",
      "tensor([[1],\n",
      "        [1],\n",
      "        [1]])\n",
      "torch.Size([3, 1])\n"
     ]
    }
   ],
   "source": [
    "# 给张量创建新轴\n",
    "import torch\n",
    "t = torch.tensor([1,1,1]) \n",
    "print(t.unsqueeze(dim=0))\n",
    "print(t.unsqueeze(dim=0).shape)\n",
    "print(t.unsqueeze(dim=1))\n",
    "print(t.unsqueeze(dim=1).shape)"
   ]
  },
  {
   "cell_type": "code",
   "execution_count": 34,
   "metadata": {},
   "outputs": [
    {
     "name": "stdout",
     "output_type": "stream",
     "text": [
      "tensor([1, 1, 1, 2, 2, 2, 3, 3, 3])\n",
      "tensor([[1, 1, 1],\n",
      "        [2, 2, 2],\n",
      "        [3, 3, 3]])\n",
      "tensor([[1, 1, 1],\n",
      "        [2, 2, 2],\n",
      "        [3, 3, 3]])\n"
     ]
    }
   ],
   "source": [
    "# 使用Pytorch实现concatenating和stacking\n",
    "t1 = torch.tensor([1,1,1])\n",
    "t2 = torch.tensor([2,2,2])\n",
    "t3 = torch.tensor([3,3,3])\n",
    "# Concatenating\n",
    "t_cat = torch.cat(\n",
    "    (t1,t2,t3), \n",
    "    dim=0\n",
    ")\n",
    "print(t_cat)\n",
    "\n",
    "# Stacking\n",
    "t_stack = torch.stack(\n",
    "    (t1, t2, t3), \n",
    "    dim=0\n",
    ")\n",
    "print(t_stack)\n",
    "\n",
    "# Staking相当于先给张量添加一个新轴然后在concat\n",
    "t_stack1 = torch.cat(\n",
    "    (\n",
    "        t1.unsqueeze(0),\n",
    "        t2.unsqueeze(0),\n",
    "        t3.unsqueeze(0)\n",
    "    ), \n",
    "    dim =0\n",
    ")\n",
    "print(t_stack1)"
   ]
  },
  {
   "cell_type": "code",
   "execution_count": 35,
   "metadata": {},
   "outputs": [
    {
     "data": {
      "text/plain": [
       "tensor([[1, 2, 3],\n",
       "        [1, 2, 3],\n",
       "        [1, 2, 3]])"
      ]
     },
     "execution_count": 35,
     "metadata": {},
     "output_type": "execute_result"
    }
   ],
   "source": [
    "# 如果要沿着第二个轴进行合并 stacking是唯一的选择\n",
    "torch.stack(\n",
    "    (t1,t2,t3),\n",
    "    dim=1\n",
    ")"
   ]
  },
  {
   "cell_type": "code",
   "execution_count": 36,
   "metadata": {},
   "outputs": [
    {
     "data": {
      "text/plain": [
       "tensor([[1, 2, 3],\n",
       "        [1, 2, 3],\n",
       "        [1, 2, 3]])"
      ]
     },
     "execution_count": 36,
     "metadata": {},
     "output_type": "execute_result"
    }
   ],
   "source": [
    "torch.cat(\n",
    "    (\n",
    "        t1.unsqueeze(1),\n",
    "        t2.unsqueeze(1),\n",
    "        t3.unsqueeze(1)\n",
    "    ),\n",
    "    dim=1\n",
    ")"
   ]
  },
  {
   "cell_type": "code",
   "execution_count": 131,
   "metadata": {},
   "outputs": [
    {
     "name": "stderr",
     "output_type": "stream",
     "text": [
      "C:\\Users\\wanyu\\Anaconda3\\lib\\site-packages\\h5py\\__init__.py:36: FutureWarning: Conversion of the second argument of issubdtype from `float` to `np.floating` is deprecated. In future, it will be treated as `np.float64 == np.dtype(float).type`.\n",
      "  from ._conv import register_converters as _register_converters\n"
     ]
    },
    {
     "name": "stdout",
     "output_type": "stream",
     "text": [
      "Tensor(\"concat:0\", shape=(9,), dtype=int64)\n",
      "Tensor(\"concat_1:0\", shape=(9,), dtype=int64)\n"
     ]
    }
   ],
   "source": [
    "# 使用Tensorflow实现concatenating和stacking\n",
    "import tensorflow as tf\n",
    "# Concatenating\n",
    "t_cat = tf.concat((t1, t2, t3), axis =0)\n",
    "print(t_cat)\n",
    "\n",
    "#Stacking\n",
    "t_stack = tf.concat((t1, t2, t3), axis =0)\n",
    "print(t_stack)"
   ]
  },
  {
   "cell_type": "code",
   "execution_count": 37,
   "metadata": {},
   "outputs": [
    {
     "name": "stdout",
     "output_type": "stream",
     "text": [
      "[1 1 1 2 2 2 3 3 3]\n",
      "[[1 1 1]\n",
      " [2 2 2]\n",
      " [3 3 3]]\n"
     ]
    }
   ],
   "source": [
    "# 使用Numpy实现concatenating和stacking\n",
    "import numpy as np\n",
    "t1 = np.array([1,1,1])\n",
    "t2 = np.array([2,2,2])\n",
    "t3 = np.array([3,3,3])\n",
    "# Concatenating\n",
    "t_cat = np.concatenate((\n",
    "    t1,t2,t3), \n",
    "    axis=0\n",
    ")\n",
    "print(t_cat)\n",
    "# Stacking\n",
    "t_stack = np.stack(\n",
    "    (t1,t2,t3), \n",
    "    axis =0\n",
    ")\n",
    "print(t_stack)"
   ]
  },
  {
   "cell_type": "code",
   "execution_count": 2,
   "metadata": {},
   "outputs": [],
   "source": [
    "import numpy as np\n",
    "??np.stack"
   ]
  },
  {
   "cell_type": "code",
   "execution_count": null,
   "metadata": {},
   "outputs": [],
   "source": []
  }
 ],
 "metadata": {
  "kernelspec": {
   "display_name": "pytorchenv",
   "language": "python",
   "name": "pytorchenv"
  },
  "language_info": {
   "codemirror_mode": {
    "name": "ipython",
    "version": 3
   },
   "file_extension": ".py",
   "mimetype": "text/x-python",
   "name": "python",
   "nbconvert_exporter": "python",
   "pygments_lexer": "ipython3",
   "version": "3.8.6"
  }
 },
 "nbformat": 4,
 "nbformat_minor": 2
}
